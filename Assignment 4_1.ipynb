{
 "cells": [
  {
   "cell_type": "code",
   "execution_count": 36,
   "metadata": {},
   "outputs": [
    {
     "name": "stdout",
     "output_type": "stream",
     "text": [
      "Output for Problem Statement 1\n",
      "------------------------------\n",
      "43.3\n",
      "117.09\n",
      "\n",
      "Output for Problem Statement 2\n",
      "------------------------------\n",
      "['function', 'integer.', 'Returns', 'longer']\n"
     ]
    }
   ],
   "source": [
    "#Course: Data Science Masters\n",
    "#Title: Python - Assignment 4.1\n",
    "#Problem Statement: \n",
    "#    1. Program to find the Child of the traingle\n",
    "#    2. Function to take list of words and integer N and returns the list of words longer than the N\n",
    "#Tool: Jupyter notebook \n",
    "#Author: Krishna A\n",
    "#Date: 19-2-2018 (DD/MM/YYYY)\n",
    "\n",
    "import numpy as np\n",
    "\n",
    "class Parent:\n",
    "    def __init__(self,sideA,sideB,sideC): #init stands for initialize - equivalent of constructor\n",
    "        self.sideA = sideA\n",
    "        self.sideB = sideB\n",
    "        self.sideC = sideC\n",
    "\n",
    "class Child(Parent):\n",
    "    def __init__(self, *args, **kwargs):\n",
    "        super(Child, self).__init__(*args, **kwargs)\n",
    "    \n",
    "    def CalcChild(self):\n",
    "        isemiperimeter = 1/2 * (self.sideA + self.sideB + self.sideC)\n",
    "        iChild = (isemiperimeter*(isemiperimeter-self.sideA)*(isemiperimeter-self.sideB)*(isemiperimeter-self.sideC)) ** 0.5\n",
    "        return(iChild)\n",
    "     \n",
    "    def filter_long_words(self,aList,iCmpValue):\n",
    "        aReturnList = list(filter(lambda x:len(x)>iCmpValue,aList))\n",
    "        return aReturnList\n",
    "\n",
    "print(\"Output for Problem Statement 1\\n------------------------------\")\n",
    "oObject1 = Child(10,10,10)\n",
    "print(np.round(oObject1.CalcChild(),2))\n",
    "oObject2 = Child(10,25,30)\n",
    "print(np.round(oObject2.CalcChild(),2))\n",
    "print(\"\\nOutput for Problem Statement 2\\n------------------------------\")\n",
    "sParamList = \"Write a function that takes a list of words and an integer.  Returns the list of words that are longer than 5\".split(\" \")\n",
    "print(oObject2.filter_long_words(sParamList,5))"
   ]
  },
  {
   "cell_type": "code",
   "execution_count": null,
   "metadata": {
    "collapsed": true
   },
   "outputs": [],
   "source": []
  }
 ],
 "metadata": {
  "kernelspec": {
   "display_name": "Python 3",
   "language": "python",
   "name": "python3"
  },
  "language_info": {
   "codemirror_mode": {
    "name": "ipython",
    "version": 3
   },
   "file_extension": ".py",
   "mimetype": "text/x-python",
   "name": "python",
   "nbconvert_exporter": "python",
   "pygments_lexer": "ipython3",
   "version": "3.6.3"
  }
 },
 "nbformat": 4,
 "nbformat_minor": 2
}
